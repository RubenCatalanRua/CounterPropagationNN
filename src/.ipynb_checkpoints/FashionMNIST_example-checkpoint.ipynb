{
  "cells": [
    {
      "cell_type": "markdown",
      "source": [
        "# Example implementation of a model using CPNN"
      ],
      "metadata": {
        "id": "IZOVAJZQ324r"
      }
    },
    {
      "cell_type": "markdown",
      "source": [
        "### Necessary import and environmental variable setting to ensure reproducibility"
      ],
      "metadata": {
        "id": "hWRrDNxr4B3X"
      }
    },
    {
      "cell_type": "code",
      "execution_count": 87,
      "metadata": {
        "id": "MBG2YSsWGbFV"
      },
      "outputs": [],
      "source": [
        "import os\n",
        "os.environ['CUBLAS_WORKSPACE_CONFIG'] = ':16:8'"
      ]
    },
    {
      "cell_type": "markdown",
      "source": [
        "### Install libraries if needed"
      ],
      "metadata": {
        "id": "CN-xSkH0FFGs"
      }
    },
    {
      "cell_type": "code",
      "execution_count": 88,
      "metadata": {
        "id": "4KCVb7_uedHj",
        "colab": {
          "base_uri": "https://localhost:8080/"
        },
        "outputId": "f54da459-d5d8-49f6-d213-6e08a7fdcd69"
      },
      "outputs": [
        {
          "output_type": "stream",
          "name": "stdout",
          "text": [
            "Requirement already satisfied: torch in /usr/local/lib/python3.11/dist-packages (2.6.0+cu124)\n",
            "Requirement already satisfied: filelock in /usr/local/lib/python3.11/dist-packages (from torch) (3.18.0)\n",
            "Requirement already satisfied: typing-extensions>=4.10.0 in /usr/local/lib/python3.11/dist-packages (from torch) (4.13.1)\n",
            "Requirement already satisfied: networkx in /usr/local/lib/python3.11/dist-packages (from torch) (3.4.2)\n",
            "Requirement already satisfied: jinja2 in /usr/local/lib/python3.11/dist-packages (from torch) (3.1.6)\n",
            "Requirement already satisfied: fsspec in /usr/local/lib/python3.11/dist-packages (from torch) (2025.3.2)\n",
            "Requirement already satisfied: nvidia-cuda-nvrtc-cu12==12.4.127 in /usr/local/lib/python3.11/dist-packages (from torch) (12.4.127)\n",
            "Requirement already satisfied: nvidia-cuda-runtime-cu12==12.4.127 in /usr/local/lib/python3.11/dist-packages (from torch) (12.4.127)\n",
            "Requirement already satisfied: nvidia-cuda-cupti-cu12==12.4.127 in /usr/local/lib/python3.11/dist-packages (from torch) (12.4.127)\n",
            "Requirement already satisfied: nvidia-cudnn-cu12==9.1.0.70 in /usr/local/lib/python3.11/dist-packages (from torch) (9.1.0.70)\n",
            "Requirement already satisfied: nvidia-cublas-cu12==12.4.5.8 in /usr/local/lib/python3.11/dist-packages (from torch) (12.4.5.8)\n",
            "Requirement already satisfied: nvidia-cufft-cu12==11.2.1.3 in /usr/local/lib/python3.11/dist-packages (from torch) (11.2.1.3)\n",
            "Requirement already satisfied: nvidia-curand-cu12==10.3.5.147 in /usr/local/lib/python3.11/dist-packages (from torch) (10.3.5.147)\n",
            "Requirement already satisfied: nvidia-cusolver-cu12==11.6.1.9 in /usr/local/lib/python3.11/dist-packages (from torch) (11.6.1.9)\n",
            "Requirement already satisfied: nvidia-cusparse-cu12==12.3.1.170 in /usr/local/lib/python3.11/dist-packages (from torch) (12.3.1.170)\n",
            "Requirement already satisfied: nvidia-cusparselt-cu12==0.6.2 in /usr/local/lib/python3.11/dist-packages (from torch) (0.6.2)\n",
            "Requirement already satisfied: nvidia-nccl-cu12==2.21.5 in /usr/local/lib/python3.11/dist-packages (from torch) (2.21.5)\n",
            "Requirement already satisfied: nvidia-nvtx-cu12==12.4.127 in /usr/local/lib/python3.11/dist-packages (from torch) (12.4.127)\n",
            "Requirement already satisfied: nvidia-nvjitlink-cu12==12.4.127 in /usr/local/lib/python3.11/dist-packages (from torch) (12.4.127)\n",
            "Requirement already satisfied: triton==3.2.0 in /usr/local/lib/python3.11/dist-packages (from torch) (3.2.0)\n",
            "Requirement already satisfied: sympy==1.13.1 in /usr/local/lib/python3.11/dist-packages (from torch) (1.13.1)\n",
            "Requirement already satisfied: mpmath<1.4,>=1.1.0 in /usr/local/lib/python3.11/dist-packages (from sympy==1.13.1->torch) (1.3.0)\n",
            "Requirement already satisfied: MarkupSafe>=2.0 in /usr/local/lib/python3.11/dist-packages (from jinja2->torch) (3.0.2)\n",
            "Requirement already satisfied: optuna in /usr/local/lib/python3.11/dist-packages (4.3.0)\n",
            "Requirement already satisfied: alembic>=1.5.0 in /usr/local/lib/python3.11/dist-packages (from optuna) (1.15.2)\n",
            "Requirement already satisfied: colorlog in /usr/local/lib/python3.11/dist-packages (from optuna) (6.9.0)\n",
            "Requirement already satisfied: numpy in /usr/local/lib/python3.11/dist-packages (from optuna) (2.0.2)\n",
            "Requirement already satisfied: packaging>=20.0 in /usr/local/lib/python3.11/dist-packages (from optuna) (24.2)\n",
            "Requirement already satisfied: sqlalchemy>=1.4.2 in /usr/local/lib/python3.11/dist-packages (from optuna) (2.0.40)\n",
            "Requirement already satisfied: tqdm in /usr/local/lib/python3.11/dist-packages (from optuna) (4.67.1)\n",
            "Requirement already satisfied: PyYAML in /usr/local/lib/python3.11/dist-packages (from optuna) (6.0.2)\n",
            "Requirement already satisfied: Mako in /usr/lib/python3/dist-packages (from alembic>=1.5.0->optuna) (1.1.3)\n",
            "Requirement already satisfied: typing-extensions>=4.12 in /usr/local/lib/python3.11/dist-packages (from alembic>=1.5.0->optuna) (4.13.1)\n",
            "Requirement already satisfied: greenlet>=1 in /usr/local/lib/python3.11/dist-packages (from sqlalchemy>=1.4.2->optuna) (3.1.1)\n",
            "Requirement already satisfied: numpy in /usr/local/lib/python3.11/dist-packages (2.0.2)\n"
          ]
        }
      ],
      "source": [
        "!pip install torch\n",
        "!pip install optuna\n",
        "!pip install numpy"
      ]
    },
    {
      "cell_type": "markdown",
      "source": [
        "### Imports and seeding"
      ],
      "metadata": {
        "id": "UCShD_bFFMta"
      }
    },
    {
      "cell_type": "code",
      "execution_count": 89,
      "metadata": {
        "id": "A9q-ZDBGesvR",
        "colab": {
          "base_uri": "https://localhost:8080/"
        },
        "outputId": "a4e0b428-70bb-4b26-838a-9d33c9888569"
      },
      "outputs": [
        {
          "output_type": "stream",
          "name": "stdout",
          "text": [
            "True\n",
            "NVIDIA L4\n"
          ]
        }
      ],
      "source": [
        "import torch\n",
        "import torch.nn as nn\n",
        "import torch.nn.functional as F\n",
        "import torch.optim as optim\n",
        "\n",
        "from torchvision import datasets, transforms\n",
        "from torch.utils.data import DataLoader, random_split\n",
        "\n",
        "print(torch.cuda.is_available())\n",
        "print(torch.cuda.get_device_name(0) if torch.cuda.is_available() else \"No GPU found\")\n",
        "\n",
        "# Although random is not explicitly used in this file, certain functions do use it.\n",
        "# Therefore, not seeding it is a source of randomness\n",
        "import random\n",
        "import numpy as np\n",
        "\n",
        "# Imports for displaying\n",
        "from sklearn.metrics import confusion_matrix, ConfusionMatrixDisplay\n",
        "import matplotlib.pyplot as plt\n",
        "\n",
        "# For bayesian hyperparameter search\n",
        "import optuna\n",
        "\n",
        "\n",
        "# Seeding method\n",
        "def set_all_seeds(seed=42):\n",
        "    np.random.seed(seed)\n",
        "    torch.manual_seed(seed)\n",
        "    torch.cuda.manual_seed_all(seed)\n",
        "    torch.backends.cudnn.deterministic = True\n",
        "    torch.backends.cudnn.benchmark = False\n",
        "    torch.use_deterministic_algorithms(True)\n",
        "    random.seed(42)\n",
        "\n",
        "# Seeding method specific for DataLoaders\n",
        "def seed_worker(worker_id):\n",
        "    worker_seed = 42\n",
        "    np.random.seed(worker_seed)\n",
        "    random.seed(worker_seed)"
      ]
    },
    {
      "cell_type": "markdown",
      "source": [
        "## CounterPropagationNeuralNetwork implementation"
      ],
      "metadata": {
        "id": "gOpMZr8nF1rw"
      }
    },
    {
      "cell_type": "code",
      "execution_count": 90,
      "metadata": {
        "id": "padvMVPbbfY8"
      },
      "outputs": [],
      "source": [
        "# ---------------------------\n",
        "# Base CounterPropagation Network\n",
        "# ---------------------------\n",
        "class BaseCPNN(nn.Module):\n",
        "    def __init__(self, input_size, hidden_size, output_size, neighborhood_function='gaussian', neighborhood_size=3):\n",
        "        \"\"\"\n",
        "        input_size: Dimensionality of the input (e.g. 28*28 for MNIST)\n",
        "        hidden_size: Number of neurons in the Kohonen layer.\n",
        "        output_size: Number of classes.\n",
        "        \"\"\"\n",
        "        super(BaseCPNN, self).__init__()\n",
        "        self.flatten = nn.Flatten()\n",
        "        self.input_size = input_size\n",
        "        self.hidden_size = hidden_size\n",
        "        self.output_size = output_size\n",
        "\n",
        "        self.kohonen_weights = nn.Parameter(torch.empty(hidden_size, input_size))\n",
        "\n",
        "        self.grossberg_weights = nn.Parameter(torch.empty(output_size, hidden_size))\n",
        "\n",
        "        # Kohonen and Grossberg layers should be initialized randomly\n",
        "        self.kohonen_weights.data.normal_(0, 1)\n",
        "        self.kohonen_weights.data = F.normalize(self.kohonen_weights.data, p=2, dim=1)\n",
        "\n",
        "        self.grossberg_weights.data.normal_(0, 1)\n",
        "        self.grossberg_weights.data = F.normalize(self.grossberg_weights.data, p=2, dim=1)\n",
        "\n",
        "\n",
        "        self.neighborhood_function = neighborhood_function\n",
        "        self.neighborhood_size = neighborhood_size\n",
        "\n",
        "    def forward(self, x):\n",
        "        x = self.flatten(x)\n",
        "        # x is expected to be of shape (batch_size, input_size)\n",
        "        # Compute distance between x and each kohonen weight vector.\n",
        "        # (Using Euclidean distance here.)\n",
        "        distances = torch.cdist(x, self.kohonen_weights)  # shape: (batch, hidden_size)\n",
        "        # Winner-take-all: find index of closest neuron for each sample.\n",
        "        winners = torch.argmin(distances, dim=1)  # shape: (batch,)\n",
        "        # Create one-hot encoding of the winning neurons.\n",
        "        batch_size = x.size(0)\n",
        "        winner_one_hot = torch.zeros(batch_size, self.kohonen_weights.size(0), device=x.device)\n",
        "        winner_one_hot.scatter_(1, winners.unsqueeze(1), 1)\n",
        "\n",
        "        output = torch.matmul(winner_one_hot, self.grossberg_weights.t())\n",
        "        return output, winners\n",
        "\n",
        "    def update_kohonen(self, x, optimizer, lr, neighborhood_size):\n",
        "\n",
        "        # Flatten the input: (batch_size, input_size)\n",
        "        x = self.flatten(x)\n",
        "        # Compute distances between each sample and each neuron's weight.\n",
        "        # x: (batch_size, input_size), weights: (hidden_size, input_size)\n",
        "        distances = torch.cdist(x, self.kohonen_weights, p=2)  # Shape: (batch_size, hidden_size\n",
        "        winner_indices = torch.argmin(distances, dim=1)  # Shape: (batch_size,)\n",
        "\n",
        "        batch_size = x.size(0)\n",
        "        # Create a tensor for hidden indices, shape (batch_size, hidden_size)\n",
        "        hidden_indices = torch.arange(self.hidden_size, device=x.device, dtype=torch.float32)\n",
        "        hidden_indices = hidden_indices.unsqueeze(0).expand(batch_size, -1)\n",
        "\n",
        "        # Expand winner indices to match hidden_indices dimensions: (batch_size, 1)\n",
        "        winner_indices_exp = winner_indices.unsqueeze(1).float()\n",
        "        diff_indices = torch.abs(hidden_indices - winner_indices_exp)  # (batch_size, hidden_size)\n",
        "\n",
        "        # Compute the influence for all samples in a vectorized way\n",
        "        if self.neighborhood_function == 'gaussian':\n",
        "            influence = torch.exp(- (diff_indices ** 2) / (2 * (neighborhood_size ** 2)))\n",
        "        elif self.neighborhood_function == 'rectangular':\n",
        "            influence = (diff_indices <= neighborhood_size).float()\n",
        "        elif self.neighborhood_function == 'triangular':\n",
        "            influence = torch.clamp(1 - diff_indices / neighborhood_size, min=0)\n",
        "        else:\n",
        "            influence = torch.exp(- (diff_indices ** 2) / (2 * (neighborhood_size ** 2)))\n",
        "        x_expanded = x.unsqueeze(1)\n",
        "        weights_expanded = self.kohonen_weights.unsqueeze(0)\n",
        "        diff = x_expanded - weights_expanded  # (batch_size, hidden_size, input_size)\n",
        "\n",
        "        # Unsqueeze influence to match the diff dimensions: (batch_size, hidden_size, 1)\n",
        "        influence = influence.unsqueeze(2)\n",
        "        # Compute the per-sample gradients and then average over the batch\n",
        "        grad = - influence * diff  # (batch_size, hidden_size, input_size)\n",
        "        grad_accum = grad.mean(dim=0)  # (hidden_size, input_size)\n",
        "\n",
        "        optimizer.zero_grad()\n",
        "        self.kohonen_weights.grad = grad_accum * lr\n",
        "        optimizer.step()\n",
        "        self.kohonen_weights.data = F.normalize(self.kohonen_weights.data, p=2, dim=1)\n",
        "\n",
        "\n",
        "    def train_grossberg(self, x, y, optimizer, lr):\n",
        "\n",
        "        _, winner_indices = self.forward(x)\n",
        "        batch_size = x.size(0)\n",
        "\n",
        "        optimizer.zero_grad()\n",
        "        counts = torch.zeros(self.hidden_size, device=x.device)\n",
        "        counts = counts.index_add(0, winner_indices, torch.ones(batch_size, device=x.device))\n",
        "        y_onehot = F.one_hot(y, num_classes=self.output_size).float()\n",
        "\n",
        "        y_sum = torch.zeros(self.output_size, self.hidden_size, device=x.device)\n",
        "        y_sum = y_sum.index_add(1, winner_indices, y_onehot.transpose(0, 1))\n",
        "        grad = self.grossberg_weights * counts.unsqueeze(0) - y_sum\n",
        "        self.grossberg_weights.grad = grad * lr\n",
        "        optimizer.step()\n",
        "\n",
        "\n",
        "    def fit(self, device, train_loader, val_loader=None, epochs=20,\n",
        "            kohonen_lr=0.01, grossberg_lr=0.01,\n",
        "            early_stopping=False, patience=None):\n",
        "\n",
        "        optimizer_gr = optim.SGD([self.grossberg_weights], lr=grossberg_lr, momentum=0.8, nesterov=True)\n",
        "        optimizer_kh = optim.SGD([self.kohonen_weights], lr=kohonen_lr, momentum=0.8, nesterov=True)\n",
        "\n",
        "        scheduler_gr = optim.lr_scheduler.ReduceLROnPlateau(optimizer_gr, mode='min', factor=0.5, patience=3)\n",
        "        scheduler_kh = optim.lr_scheduler.ExponentialLR(optimizer_kh, gamma=0.95)\n",
        "\n",
        "        criterion = nn.CrossEntropyLoss()\n",
        "        best_val_loss = float('inf')\n",
        "        init_patience = patience\n",
        "\n",
        "        for epoch in range(1, epochs + 1):\n",
        "            kohonen_time = 0\n",
        "            grossberg_time = 0\n",
        "\n",
        "            print(f\"\\n[Epoch {epoch}] Starting training...\")\n",
        "\n",
        "            self.train()\n",
        "            decayed_neighborhood = max(1, self.neighborhood_size - (self.neighborhood_size - 1) * (epoch - 1) / (epochs - 1))\n",
        "\n",
        "            for batch_x, batch_y in train_loader:\n",
        "                batch_x, batch_y = batch_x.to(device), batch_y.to(device)\n",
        "\n",
        "                # Profile Kohonen update\n",
        "                self.update_kohonen(batch_x, optimizer_kh, lr=kohonen_lr,\n",
        "                                    neighborhood_size=decayed_neighborhood)\n",
        "\n",
        "                # Profile Grossberg update\n",
        "                self.train_grossberg(batch_x, batch_y, optimizer_gr, grossberg_lr)\n",
        "\n",
        "            if val_loader is not None:\n",
        "                val_loss = self.evaluate(val_loader, return_loss=True)\n",
        "                print(f\"[Epoch {epoch}] Validation loss: {val_loss:.4f}\")\n",
        "                scheduler_gr.step(val_loss)\n",
        "                scheduler_kh.step()\n",
        "\n",
        "                if val_loss < best_val_loss:\n",
        "                    best_val_loss = val_loss\n",
        "                    patience = init_patience\n",
        "                else:\n",
        "                    if early_stopping:\n",
        "                        patience -= 1\n",
        "                        if patience == 0:\n",
        "                            print(\"Early stopping triggered.\")\n",
        "                            break\n",
        "\n",
        "        return self\n",
        "\n",
        "    def evaluate(self, data_loader, return_loss=False):\n",
        "\n",
        "        self.eval()\n",
        "        device = next(self.parameters()).device\n",
        "        correct = 0\n",
        "        total = 0\n",
        "        running_loss = 0.0\n",
        "        criterion = nn.CrossEntropyLoss(reduction='sum')\n",
        "\n",
        "        with torch.no_grad():\n",
        "            for batch_x, batch_y in data_loader:\n",
        "                batch_x, batch_y = batch_x.to(device), batch_y.to(device)\n",
        "                outputs, _ = self.forward(batch_x)\n",
        "                preds = outputs.argmax(dim=1)\n",
        "                correct += (preds == batch_y).sum().item()\n",
        "                total += batch_y.size(0)\n",
        "\n",
        "                if return_loss:\n",
        "                    running_loss += criterion(outputs, batch_y).item()\n",
        "\n",
        "        accuracy = 100 * correct / total\n",
        "        print(f\"Accuracy: {accuracy:.2f}%\")\n",
        "\n",
        "        if return_loss:\n",
        "            avg_loss = running_loss / total\n",
        "            return avg_loss\n",
        "        else:\n",
        "            return accuracy\n"
      ]
    },
    {
      "cell_type": "markdown",
      "source": [
        "### We load the data and we preprocess it slightly by transforming it"
      ],
      "metadata": {
        "id": "3IFjTjq-IaYq"
      }
    },
    {
      "cell_type": "code",
      "source": [
        "# Define the transformation\n",
        "transform=transforms.Compose([transforms.ToTensor(), # first, convert image to PyTorch tensor\n",
        "transforms.Normalize((0.1307,), (0.3081,)) # normalize inputs\n",
        "                              ])\n",
        "\n",
        "full_train_dataset = datasets.FashionMNIST(root=\"./data\", train=True, download=True, transform=transform)\n",
        "test_dataset = datasets.FashionMNIST(root=\"./data\", train=False, download=False, transform=transform)\n",
        "\n",
        "\n",
        "# Print the number of training and test samples\n",
        "print(f\"Training samples: {len(full_train_dataset)}\")\n",
        "print(f\"Testing samples: {len(test_dataset)}\")\n",
        "\n",
        "# Get a sample and inspect its shape\n",
        "sample, label = full_train_dataset[0]\n",
        "print(\"Sample image shape:\", sample.shape)\n",
        "# If flattening, input size is:\n",
        "input_size = sample.numel()  # This will give 3072 for CIFAR-10\n",
        "print(\"Input size (flattened):\", input_size)\n",
        "\n",
        "# Output size (number of classes)\n",
        "output_size = len(full_train_dataset.classes)\n",
        "print(\"Output size (number of classes):\", output_size)\n",
        "\n",
        "# Set device\n",
        "device = torch.device(\"cuda\" if torch.cuda.is_available() else \"cpu\")\n"
      ],
      "metadata": {
        "id": "sgyn38Kk9krB",
        "colab": {
          "base_uri": "https://localhost:8080/"
        },
        "outputId": "74d921cc-1faf-4027-9ff9-a60ee98cb2bd"
      },
      "execution_count": 91,
      "outputs": [
        {
          "output_type": "stream",
          "name": "stdout",
          "text": [
            "Training samples: 60000\n",
            "Testing samples: 10000\n",
            "Sample image shape: torch.Size([1, 28, 28])\n",
            "Input size (flattened): 784\n",
            "Output size (number of classes): 10\n"
          ]
        }
      ]
    },
    {
      "cell_type": "markdown",
      "source": [
        "### Finally, we train the network. Afterwards, we retrain with the best hyperparameters and create the confussion matrix to display its performance."
      ],
      "metadata": {
        "id": "1hh_HDrCIm8n"
      }
    },
    {
      "cell_type": "code",
      "source": [
        "# @title\n",
        "# Train the model\n",
        "\n",
        "def objective(trial):\n",
        "\n",
        "    set_all_seeds(42)\n",
        "\n",
        "    g = torch.Generator()\n",
        "    g.manual_seed(42)\n",
        "\n",
        "    # Create DataLoaders\n",
        "    train_loader = DataLoader(full_train_dataset, batch_size=256, shuffle=True, num_workers=8, pin_memory=True,  worker_init_fn=seed_worker, generator=g)\n",
        "    test_loader = DataLoader(test_dataset, batch_size=256, shuffle=False, num_workers=8, pin_memory=True, worker_init_fn=seed_worker, generator=g)\n",
        "\n",
        "\n",
        "    # Hyperparameters to tune\n",
        "    kohonen_lr = trial.suggest_float(\"kohonen_lr\", 0.6, 0.9, log=True)\n",
        "    grossberg_lr = trial.suggest_float(\"grossberg_lr\", 0.15, 0.3, log=True)\n",
        "    neighborhood_size = trial.suggest_int(\"neighborhood_size\", 16, 18, step=2)\n",
        "    neighborhood_function = trial.suggest_categorical(\"neighborhood_function\", ['gaussian', 'rectangular', 'triangular'])\n",
        "    hidden_size = trial.suggest_int(\"hidden_size\", 2000, 3000, step=250)\n",
        "\n",
        "\n",
        "    # Create the model with the current hyperparameters.\n",
        "    model = BaseCPNN(input_size, hidden_size, output_size, neighborhood_function, neighborhood_size).to(device)\n",
        "\n",
        "    # Train the model using the current hyperparameters.\n",
        "    model.fit(device,\n",
        "              train_loader=train_loader,\n",
        "              val_loader=test_loader,\n",
        "              epochs=5,\n",
        "              kohonen_lr=kohonen_lr,\n",
        "              grossberg_lr=grossberg_lr,\n",
        "              early_stopping=True,\n",
        "              patience=10)\n",
        "\n",
        "    # Evaluate the model on the test set\n",
        "    val_loss = model.evaluate(test_loader, return_loss=True)\n",
        "    print(f\"Validation loss: {val_loss}\")\n",
        "    return val_loss\n",
        "\n",
        "# Create and run the Optuna study.\n",
        "study = optuna.create_study(direction=\"minimize\", pruner=optuna.pruners.MedianPruner(), sampler=optuna.samplers.TPESampler(seed=42))\n",
        "study.optimize(objective, n_trials=5)\n",
        "\n",
        "print(\"Best trial:\")\n",
        "trial = study.best_trial\n",
        "print(\"  Accuracy: \", trial.value)\n",
        "print(\"  Params: \")\n",
        "for key, value in trial.params.items():\n",
        "    print(f\"    {key}: {value}\")"
      ],
      "metadata": {
        "id": "uJPJ0J0sxp6Q",
        "colab": {
          "base_uri": "https://localhost:8080/"
        },
        "outputId": "9289beec-0a56-4cb2-b5a7-204e13976924"
      },
      "execution_count": 92,
      "outputs": [
        {
          "output_type": "stream",
          "name": "stderr",
          "text": [
            "[I 2025-04-17 10:55:27,638] A new study created in memory with name: no-name-6599a223-01ec-42f6-bcc2-2bc6885345da\n"
          ]
        },
        {
          "output_type": "stream",
          "name": "stdout",
          "text": [
            "\n",
            "[Epoch 1] Starting training...\n",
            "Accuracy: 68.46%\n",
            "[Epoch 1] Validation loss: 1.8062\n",
            "\n",
            "[Epoch 2] Starting training...\n",
            "Accuracy: 71.12%\n",
            "[Epoch 2] Validation loss: 1.7792\n",
            "\n",
            "[Epoch 3] Starting training...\n",
            "Accuracy: 72.92%\n",
            "[Epoch 3] Validation loss: 1.7622\n",
            "\n",
            "[Epoch 4] Starting training...\n",
            "Accuracy: 74.96%\n",
            "[Epoch 4] Validation loss: 1.7387\n",
            "\n",
            "[Epoch 5] Starting training...\n",
            "Accuracy: 79.66%\n",
            "[Epoch 5] Validation loss: 1.6877\n"
          ]
        },
        {
          "output_type": "stream",
          "name": "stderr",
          "text": [
            "[I 2025-04-17 10:56:06,608] Trial 0 finished with value: 1.6876868753433227 and parameters: {'kohonen_lr': 0.698400419368405, 'grossberg_lr': 0.28992441036839267, 'neighborhood_size': 18, 'neighborhood_function': 'gaussian', 'hidden_size': 2000}. Best is trial 0 with value: 1.6876868753433227.\n"
          ]
        },
        {
          "output_type": "stream",
          "name": "stdout",
          "text": [
            "Accuracy: 79.66%\n",
            "Validation loss: 1.6876868753433227\n",
            "\n",
            "[Epoch 1] Starting training...\n",
            "Accuracy: 74.26%\n",
            "[Epoch 1] Validation loss: 1.7769\n",
            "\n",
            "[Epoch 2] Starting training...\n",
            "Accuracy: 74.75%\n",
            "[Epoch 2] Validation loss: 1.7585\n",
            "\n",
            "[Epoch 3] Starting training...\n",
            "Accuracy: 76.90%\n",
            "[Epoch 3] Validation loss: 1.7398\n",
            "\n",
            "[Epoch 4] Starting training...\n",
            "Accuracy: 76.96%\n",
            "[Epoch 4] Validation loss: 1.7315\n",
            "\n",
            "[Epoch 5] Starting training...\n",
            "Accuracy: 79.74%\n",
            "[Epoch 5] Validation loss: 1.6982\n"
          ]
        },
        {
          "output_type": "stream",
          "name": "stderr",
          "text": [
            "[I 2025-04-17 10:56:49,156] Trial 1 finished with value: 1.6982139715194702 and parameters: {'kohonen_lr': 0.8524664553355479, 'grossberg_lr': 0.22753327005036583, 'neighborhood_size': 18, 'neighborhood_function': 'rectangular', 'hidden_size': 2250}. Best is trial 0 with value: 1.6876868753433227.\n"
          ]
        },
        {
          "output_type": "stream",
          "name": "stdout",
          "text": [
            "Accuracy: 79.74%\n",
            "Validation loss: 1.6982139715194702\n",
            "\n",
            "[Epoch 1] Starting training...\n",
            "Accuracy: 72.73%\n",
            "[Epoch 1] Validation loss: 1.8219\n",
            "\n",
            "[Epoch 2] Starting training...\n",
            "Accuracy: 74.43%\n",
            "[Epoch 2] Validation loss: 1.7767\n",
            "\n",
            "[Epoch 3] Starting training...\n",
            "Accuracy: 74.96%\n",
            "[Epoch 3] Validation loss: 1.7615\n",
            "\n",
            "[Epoch 4] Starting training...\n",
            "Accuracy: 78.16%\n",
            "[Epoch 4] Validation loss: 1.7338\n",
            "\n",
            "[Epoch 5] Starting training...\n",
            "Accuracy: 82.11%\n",
            "[Epoch 5] Validation loss: 1.6872\n"
          ]
        },
        {
          "output_type": "stream",
          "name": "stderr",
          "text": [
            "[I 2025-04-17 10:57:40,240] Trial 2 finished with value: 1.6871999725341797 and parameters: {'kohonen_lr': 0.6459055819972729, 'grossberg_lr': 0.17033406772155538, 'neighborhood_size': 16, 'neighborhood_function': 'gaussian', 'hidden_size': 2750}. Best is trial 2 with value: 1.6871999725341797.\n"
          ]
        },
        {
          "output_type": "stream",
          "name": "stdout",
          "text": [
            "Accuracy: 82.11%\n",
            "Validation loss: 1.6871999725341797\n",
            "\n",
            "[Epoch 1] Starting training...\n",
            "Accuracy: 73.88%\n",
            "[Epoch 1] Validation loss: 1.7965\n",
            "\n",
            "[Epoch 2] Starting training...\n",
            "Accuracy: 75.33%\n",
            "[Epoch 2] Validation loss: 1.7657\n",
            "\n",
            "[Epoch 3] Starting training...\n",
            "Accuracy: 77.43%\n",
            "[Epoch 3] Validation loss: 1.7369\n",
            "\n",
            "[Epoch 4] Starting training...\n",
            "Accuracy: 79.43%\n",
            "[Epoch 4] Validation loss: 1.7188\n",
            "\n",
            "[Epoch 5] Starting training...\n",
            "Accuracy: 81.35%\n",
            "[Epoch 5] Validation loss: 1.6900\n"
          ]
        },
        {
          "output_type": "stream",
          "name": "stderr",
          "text": [
            "[I 2025-04-17 10:58:26,901] Trial 3 finished with value: 1.69003141746521 and parameters: {'kohonen_lr': 0.634913994829205, 'grossberg_lr': 0.18366887307848012, 'neighborhood_size': 16, 'neighborhood_function': 'rectangular', 'hidden_size': 2500}. Best is trial 2 with value: 1.6871999725341797.\n"
          ]
        },
        {
          "output_type": "stream",
          "name": "stdout",
          "text": [
            "Accuracy: 81.35%\n",
            "Validation loss: 1.69003141746521\n",
            "\n",
            "[Epoch 1] Starting training...\n",
            "Accuracy: 74.01%\n",
            "[Epoch 1] Validation loss: 1.8174\n",
            "\n",
            "[Epoch 2] Starting training...\n",
            "Accuracy: 75.10%\n",
            "[Epoch 2] Validation loss: 1.7687\n",
            "\n",
            "[Epoch 3] Starting training...\n",
            "Accuracy: 77.96%\n",
            "[Epoch 3] Validation loss: 1.7414\n",
            "\n",
            "[Epoch 4] Starting training...\n",
            "Accuracy: 79.75%\n",
            "[Epoch 4] Validation loss: 1.7185\n",
            "\n",
            "[Epoch 5] Starting training...\n",
            "Accuracy: 82.88%\n",
            "[Epoch 5] Validation loss: 1.6792\n"
          ]
        },
        {
          "output_type": "stream",
          "name": "stderr",
          "text": [
            "[I 2025-04-17 10:59:21,582] Trial 4 finished with value: 1.67920279712677 and parameters: {'kohonen_lr': 0.7629046776048239, 'grossberg_lr': 0.15490813545105606, 'neighborhood_size': 18, 'neighborhood_function': 'triangular', 'hidden_size': 3000}. Best is trial 4 with value: 1.67920279712677.\n"
          ]
        },
        {
          "output_type": "stream",
          "name": "stdout",
          "text": [
            "Accuracy: 82.88%\n",
            "Validation loss: 1.67920279712677\n",
            "Best trial:\n",
            "  Accuracy:  1.67920279712677\n",
            "  Params: \n",
            "    kohonen_lr: 0.7629046776048239\n",
            "    grossberg_lr: 0.15490813545105606\n",
            "    neighborhood_size: 18\n",
            "    neighborhood_function: triangular\n",
            "    hidden_size: 3000\n"
          ]
        }
      ]
    },
    {
      "cell_type": "code",
      "source": [
        "# Load the best model\n",
        "best_params = study.best_trial.params\n",
        "\n",
        "# Reset all seeds\n",
        "set_all_seeds(42)\n",
        "\n",
        "best_model = BaseCPNN(input_size,\n",
        "                      best_params['hidden_size'],\n",
        "                      output_size,\n",
        "                      neighborhood_function=best_params['neighborhood_function'],\n",
        "                      neighborhood_size=best_params['neighborhood_size']).to(device)\n",
        "\n",
        "\n",
        "# Reload the generator to ensure that the loader passes data in the same order\n",
        "g = torch.Generator()\n",
        "g.manual_seed(42)\n",
        "\n",
        "train_loader = DataLoader(full_train_dataset, batch_size=256, shuffle=True, num_workers=8, pin_memory=True,  worker_init_fn=seed_worker, generator=g)\n",
        "test_loader = DataLoader(test_dataset, batch_size=256, shuffle=False, num_workers=8, pin_memory=True, worker_init_fn=seed_worker, generator=g)\n",
        "\n",
        "\n",
        "# Retrain\n",
        "best_model.fit(device,\n",
        "               train_loader=train_loader,\n",
        "               val_loader=test_loader,\n",
        "               epochs=5,\n",
        "               kohonen_lr=best_params['kohonen_lr'],\n",
        "               grossberg_lr=best_params['grossberg_lr'],\n",
        "               early_stopping=True,\n",
        "               patience=10)\n",
        "\n",
        "# Get predictions for the test set\n",
        "true_labels = []\n",
        "pred_labels = []\n",
        "\n",
        "best_model.eval()\n",
        "with torch.no_grad():\n",
        "    for batch_x, batch_y in test_loader:\n",
        "        batch_x = batch_x.to(device)\n",
        "        outputs, _ = best_model(batch_x)\n",
        "        preds = outputs.argmax(dim=1).cpu()\n",
        "        pred_labels.extend(preds.tolist())\n",
        "        true_labels.extend(batch_y.tolist())\n",
        "\n",
        "# Create confusion matrix\n",
        "cm = confusion_matrix(true_labels, pred_labels)\n",
        "disp = ConfusionMatrixDisplay(confusion_matrix=cm, display_labels=list(range(output_size)))\n",
        "disp.plot(cmap=plt.cm.Blues)\n",
        "plt.title(\"Confusion Matrix - Best Trial\")\n",
        "plt.show()"
      ],
      "metadata": {
        "colab": {
          "base_uri": "https://localhost:8080/",
          "height": 819
        },
        "id": "5eR-7D3RNSp-",
        "outputId": "2367e2b1-6fd8-4115-86e0-4d9f2808b675"
      },
      "execution_count": 93,
      "outputs": [
        {
          "output_type": "stream",
          "name": "stdout",
          "text": [
            "\n",
            "[Epoch 1] Starting training...\n",
            "Accuracy: 74.01%\n",
            "[Epoch 1] Validation loss: 1.8174\n",
            "\n",
            "[Epoch 2] Starting training...\n",
            "Accuracy: 75.10%\n",
            "[Epoch 2] Validation loss: 1.7687\n",
            "\n",
            "[Epoch 3] Starting training...\n",
            "Accuracy: 77.96%\n",
            "[Epoch 3] Validation loss: 1.7414\n",
            "\n",
            "[Epoch 4] Starting training...\n",
            "Accuracy: 79.75%\n",
            "[Epoch 4] Validation loss: 1.7185\n",
            "\n",
            "[Epoch 5] Starting training...\n",
            "Accuracy: 82.88%\n",
            "[Epoch 5] Validation loss: 1.6792\n"
          ]
        },
        {
          "output_type": "display_data",
          "data": {
            "text/plain": [
              "<Figure size 640x480 with 2 Axes>"
            ],
            "image/png": "[encoded data removed]"
          },
          "metadata": {}
        }
      ]
    },
    {
      "cell_type": "code",
      "source": [],
      "metadata": {
        "id": "QU-TlB1XICV7"
      },
      "execution_count": null,
      "outputs": []
    }
  ],
  "metadata": {
    "accelerator": "GPU",
    "colab": {
      "gpuType": "L4",
      "machine_shape": "hm",
      "provenance": []
    },
    "kernelspec": {
      "display_name": "Python 3",
      "name": "python3"
    },
    "language_info": {
      "name": "python"
    }
  },
  "nbformat": 4,
  "nbformat_minor": 0
}