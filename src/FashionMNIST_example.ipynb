{
 "cells": [
  {
   "cell_type": "markdown",
   "metadata": {
    "id": "IZOVAJZQ324r"
   },
   "source": [
    "# Example implementation of a model using CPNN"
   ]
  },
  {
   "cell_type": "markdown",
   "metadata": {
    "id": "hWRrDNxr4B3X"
   },
   "source": [
    "### Necessary import and environmental variable setting to ensure reproducibility"
   ]
  },
  {
   "cell_type": "code",
   "execution_count": 1,
   "metadata": {
    "id": "MBG2YSsWGbFV"
   },
   "outputs": [],
   "source": [
    "import os\n",
    "os.environ['CUBLAS_WORKSPACE_CONFIG'] = ':16:8'"
   ]
  },
  {
   "cell_type": "markdown",
   "metadata": {
    "id": "CN-xSkH0FFGs"
   },
   "source": [
    "### Install libraries if needed"
   ]
  },
  {
   "cell_type": "code",
   "execution_count": 2,
   "metadata": {
    "colab": {
     "base_uri": "https://localhost:8080/"
    },
    "id": "4KCVb7_uedHj",
    "outputId": "f54da459-d5d8-49f6-d213-6e08a7fdcd69"
   },
   "outputs": [],
   "source": [
    "#!pip install torch\n",
    "#!pip install optuna\n",
    "#!pip install numpy"
   ]
  },
  {
   "cell_type": "markdown",
   "metadata": {
    "id": "UCShD_bFFMta"
   },
   "source": [
    "### Imports and seeding"
   ]
  },
  {
   "cell_type": "code",
   "execution_count": 3,
   "metadata": {
    "colab": {
     "base_uri": "https://localhost:8080/"
    },
    "id": "A9q-ZDBGesvR",
    "outputId": "a4e0b428-70bb-4b26-838a-9d33c9888569"
   },
   "outputs": [
    {
     "name": "stdout",
     "output_type": "stream",
     "text": [
      "False\n",
      "No GPU found\n"
     ]
    }
   ],
   "source": [
    "import torch\n",
    "import torch.nn as nn\n",
    "import torch.nn.functional as F\n",
    "import torch.optim as optim\n",
    "\n",
    "from torchvision import datasets, transforms\n",
    "from torch.utils.data import DataLoader, random_split\n",
    "\n",
    "print(torch.cuda.is_available())\n",
    "print(torch.cuda.get_device_name(0) if torch.cuda.is_available() else \"No GPU found\")\n",
    "\n",
    "# Although random is not explicitly used in this file, certain functions do use it.\n",
    "# Therefore, not seeding it is a source of randomness\n",
    "import random\n",
    "import numpy as np\n",
    "\n",
    "# Imports for displaying\n",
    "from sklearn.metrics import confusion_matrix, ConfusionMatrixDisplay\n",
    "import matplotlib.pyplot as plt\n",
    "\n",
    "# For bayesian hyperparameter search\n",
    "import optuna\n",
    "\n",
    "from BaseCPNN import BaseCPNN\n",
    "\n",
    "# Seeding method\n",
    "def set_all_seeds(seed=42):\n",
    "    np.random.seed(seed)\n",
    "    torch.manual_seed(seed)\n",
    "    torch.cuda.manual_seed_all(seed)\n",
    "    torch.backends.cudnn.deterministic = True\n",
    "    torch.backends.cudnn.benchmark = False\n",
    "    torch.use_deterministic_algorithms(True)\n",
    "    random.seed(42)\n",
    "\n",
    "# Seeding method specific for DataLoaders\n",
    "def seed_worker(worker_id):\n",
    "    worker_seed = 42\n",
    "    np.random.seed(worker_seed)\n",
    "    random.seed(worker_seed)"
   ]
  },
  {
   "cell_type": "markdown",
   "metadata": {
    "id": "3IFjTjq-IaYq"
   },
   "source": [
    "### We load the data and we preprocess it slightly by transforming it"
   ]
  },
  {
   "cell_type": "code",
   "execution_count": 4,
   "metadata": {
    "colab": {
     "base_uri": "https://localhost:8080/"
    },
    "id": "sgyn38Kk9krB",
    "outputId": "74d921cc-1faf-4027-9ff9-a60ee98cb2bd"
   },
   "outputs": [
    {
     "name": "stderr",
     "output_type": "stream",
     "text": [
      "\n",
      "\n",
      "\n",
      "100%|█████████████████████████████████████████████████████████████████| 5.15k/5.15k [00:00<00:00, 796kB/s]"
     ]
    },
    {
     "name": "stdout",
     "output_type": "stream",
     "text": [
      "Training samples: 60000\n",
      "Testing samples: 10000\n",
      "Sample image shape: torch.Size([1, 28, 28])\n",
      "Input size (flattened): 784\n",
      "Output size (number of classes): 10\n"
     ]
    },
    {
     "name": "stderr",
     "output_type": "stream",
     "text": [
      "\n"
     ]
    }
   ],
   "source": [
    "# Define the transformation\n",
    "transform=transforms.Compose([transforms.ToTensor(), # first, convert image to PyTorch tensor\n",
    "transforms.Normalize((0.1307,), (0.3081,)) # normalize inputs\n",
    "                              ])\n",
    "\n",
    "full_train_dataset = datasets.FashionMNIST(root=\"./data\", train=True, download=True, transform=transform)\n",
    "test_dataset = datasets.FashionMNIST(root=\"./data\", train=False, download=False, transform=transform)\n",
    "\n",
    "\n",
    "# Print the number of training and test samples\n",
    "print(f\"Training samples: {len(full_train_dataset)}\")\n",
    "print(f\"Testing samples: {len(test_dataset)}\")\n",
    "\n",
    "# Get a sample and inspect its shape\n",
    "sample, label = full_train_dataset[0]\n",
    "print(\"Sample image shape:\", sample.shape)\n",
    "# If flattening, input size is:\n",
    "input_size = sample.numel()  # This will give 3072 for CIFAR-10\n",
    "print(\"Input size (flattened):\", input_size)\n",
    "\n",
    "# Output size (number of classes)\n",
    "output_size = len(full_train_dataset.classes)\n",
    "print(\"Output size (number of classes):\", output_size)\n",
    "\n",
    "# Set device\n",
    "device = torch.device(\"cuda\" if torch.cuda.is_available() else \"cpu\")\n"
   ]
  },
  {
   "cell_type": "markdown",
   "metadata": {
    "id": "1hh_HDrCIm8n"
   },
   "source": [
    "### Finally, we train the network. Afterwards, we retrain with the best hyperparameters and create the confussion matrix to display its performance."
   ]
  },
  {
   "cell_type": "code",
   "execution_count": 5,
   "metadata": {
    "colab": {
     "base_uri": "https://localhost:8080/"
    },
    "id": "uJPJ0J0sxp6Q",
    "outputId": "9289beec-0a56-4cb2-b5a7-204e13976924"
   },
   "outputs": [
    {
     "name": "stderr",
     "output_type": "stream",
     "text": [
      "[I 2025-04-17 13:07:37,574] A new study created in memory with name: no-name-5342657e-d86c-4932-8704-a4766a555ca3\n"
     ]
    },
    {
     "name": "stdout",
     "output_type": "stream",
     "text": [
      "\n",
      "[Epoch 1] Starting training...\n",
      "Accuracy: 39.82%\n",
      "[Epoch 1] Validation loss: 17184715212779946.0000\n",
      "\n",
      "[Epoch 2] Starting training...\n",
      "Accuracy: 45.94%\n",
      "[Epoch 2] Validation loss: 18260111235176838246210033680384.0000\n",
      "\n",
      "[Epoch 3] Starting training...\n",
      "Accuracy: 10.00%\n",
      "[Epoch 3] Validation loss: nan\n",
      "\n",
      "[Epoch 4] Starting training...\n",
      "Accuracy: 10.00%\n",
      "[Epoch 4] Validation loss: nan\n",
      "\n",
      "[Epoch 5] Starting training...\n",
      "Accuracy: 10.00%\n",
      "[Epoch 5] Validation loss: nan\n"
     ]
    },
    {
     "name": "stderr",
     "output_type": "stream",
     "text": [
      "[W 2025-04-17 13:07:54,957] Trial 0 failed with parameters: {'kohonen_lr': 0.698400419368405, 'grossberg_lr': 0.28992441036839267, 'neighborhood_size': 18, 'neighborhood_function': 'gaussian', 'hidden_size': 250} because of the following error: The value nan is not acceptable.\n",
      "[W 2025-04-17 13:07:54,958] Trial 0 failed with value nan.\n"
     ]
    },
    {
     "name": "stdout",
     "output_type": "stream",
     "text": [
      "Accuracy: 10.00%\n",
      "Validation loss: nan\n",
      "\n",
      "[Epoch 1] Starting training...\n",
      "Accuracy: 57.77%\n",
      "[Epoch 1] Validation loss: 1.9034\n",
      "\n",
      "[Epoch 2] Starting training...\n",
      "Accuracy: 59.07%\n",
      "[Epoch 2] Validation loss: 1.8862\n",
      "\n",
      "[Epoch 3] Starting training...\n",
      "Accuracy: 64.16%\n",
      "[Epoch 3] Validation loss: 1.8438\n",
      "\n",
      "[Epoch 4] Starting training...\n",
      "Accuracy: 70.24%\n",
      "[Epoch 4] Validation loss: 1.7874\n",
      "\n",
      "[Epoch 5] Starting training...\n",
      "Accuracy: 76.54%\n",
      "[Epoch 5] Validation loss: 1.7504\n"
     ]
    },
    {
     "name": "stderr",
     "output_type": "stream",
     "text": [
      "[I 2025-04-17 13:08:12,396] Trial 1 finished with value: 1.7504054286956787 and parameters: {'kohonen_lr': 0.6142982339719593, 'grossberg_lr': 0.27342376581350497, 'neighborhood_size': 18, 'neighborhood_function': 'triangular', 'hidden_size': 250}. Best is trial 1 with value: 1.7504054286956787.\n"
     ]
    },
    {
     "name": "stdout",
     "output_type": "stream",
     "text": [
      "Accuracy: 76.54%\n",
      "Validation loss: 1.7504054286956787\n",
      "\n",
      "[Epoch 1] Starting training...\n",
      "Accuracy: 61.45%\n",
      "[Epoch 1] Validation loss: 1.8821\n",
      "\n",
      "[Epoch 2] Starting training...\n",
      "Accuracy: 62.62%\n",
      "[Epoch 2] Validation loss: 1.8655\n",
      "\n",
      "[Epoch 3] Starting training...\n",
      "Accuracy: 68.03%\n",
      "[Epoch 3] Validation loss: 1.8317\n",
      "\n",
      "[Epoch 4] Starting training...\n",
      "Accuracy: 69.25%\n",
      "[Epoch 4] Validation loss: 1.8067\n",
      "\n",
      "[Epoch 5] Starting training...\n",
      "Accuracy: 77.39%\n",
      "[Epoch 5] Validation loss: 1.7388\n"
     ]
    },
    {
     "name": "stderr",
     "output_type": "stream",
     "text": [
      "[I 2025-04-17 13:08:29,651] Trial 2 finished with value: 1.7387690605163575 and parameters: {'kohonen_lr': 0.8408860022624141, 'grossberg_lr': 0.17378476486519037, 'neighborhood_size': 16, 'neighborhood_function': 'triangular', 'hidden_size': 250}. Best is trial 2 with value: 1.7387690605163575.\n"
     ]
    },
    {
     "name": "stdout",
     "output_type": "stream",
     "text": [
      "Accuracy: 77.39%\n",
      "Validation loss: 1.7387690605163575\n",
      "\n",
      "[Epoch 1] Starting training...\n",
      "Accuracy: 60.11%\n",
      "[Epoch 1] Validation loss: 1.8974\n",
      "\n",
      "[Epoch 2] Starting training...\n",
      "Accuracy: 61.96%\n",
      "[Epoch 2] Validation loss: 1.8803\n",
      "\n",
      "[Epoch 3] Starting training...\n",
      "Accuracy: 65.30%\n",
      "[Epoch 3] Validation loss: 1.8501\n",
      "\n",
      "[Epoch 4] Starting training...\n",
      "Accuracy: 72.04%\n",
      "[Epoch 4] Validation loss: 1.7922\n",
      "\n",
      "[Epoch 5] Starting training...\n",
      "Accuracy: 78.24%\n",
      "[Epoch 5] Validation loss: 1.7379\n"
     ]
    },
    {
     "name": "stderr",
     "output_type": "stream",
     "text": [
      "[I 2025-04-17 13:08:47,155] Trial 3 finished with value: 1.73791587600708 and parameters: {'kohonen_lr': 0.7148468249446474, 'grossberg_lr': 0.18355235708688308, 'neighborhood_size': 18, 'neighborhood_function': 'triangular', 'hidden_size': 250}. Best is trial 3 with value: 1.73791587600708.\n"
     ]
    },
    {
     "name": "stdout",
     "output_type": "stream",
     "text": [
      "Accuracy: 78.24%\n",
      "Validation loss: 1.73791587600708\n",
      "\n",
      "[Epoch 1] Starting training...\n",
      "Accuracy: 50.13%\n",
      "[Epoch 1] Validation loss: 2.0022\n",
      "\n",
      "[Epoch 2] Starting training...\n",
      "Accuracy: 60.53%\n",
      "[Epoch 2] Validation loss: 1.8766\n",
      "\n",
      "[Epoch 3] Starting training...\n",
      "Accuracy: 66.63%\n",
      "[Epoch 3] Validation loss: 1.8458\n",
      "\n",
      "[Epoch 4] Starting training...\n",
      "Accuracy: 67.67%\n",
      "[Epoch 4] Validation loss: 1.8176\n",
      "\n",
      "[Epoch 5] Starting training...\n",
      "Accuracy: 72.93%\n",
      "[Epoch 5] Validation loss: 1.7677\n"
     ]
    },
    {
     "name": "stderr",
     "output_type": "stream",
     "text": [
      "[I 2025-04-17 13:09:04,572] Trial 4 finished with value: 1.767697046470642 and parameters: {'kohonen_lr': 0.7218736479015538, 'grossberg_lr': 0.2584953739333517, 'neighborhood_size': 16, 'neighborhood_function': 'rectangular', 'hidden_size': 250}. Best is trial 3 with value: 1.73791587600708.\n"
     ]
    },
    {
     "name": "stdout",
     "output_type": "stream",
     "text": [
      "Accuracy: 72.93%\n",
      "Validation loss: 1.767697046470642\n",
      "Best trial:\n",
      "  Accuracy:  1.73791587600708\n",
      "  Params: \n",
      "    kohonen_lr: 0.7148468249446474\n",
      "    grossberg_lr: 0.18355235708688308\n",
      "    neighborhood_size: 18\n",
      "    neighborhood_function: triangular\n",
      "    hidden_size: 250\n"
     ]
    }
   ],
   "source": [
    "# @title\n",
    "# Train the model\n",
    "\n",
    "def objective(trial):\n",
    "\n",
    "    set_all_seeds(42)\n",
    "\n",
    "    g = torch.Generator()\n",
    "    g.manual_seed(42)\n",
    "\n",
    "    # Create DataLoaders\n",
    "    train_loader = DataLoader(full_train_dataset, batch_size=256, shuffle=True, num_workers=8, pin_memory=True,  worker_init_fn=seed_worker, generator=g)\n",
    "    test_loader = DataLoader(test_dataset, batch_size=256, shuffle=False, num_workers=8, pin_memory=True, worker_init_fn=seed_worker, generator=g)\n",
    "\n",
    "\n",
    "    # Hyperparameters to tune\n",
    "    kohonen_lr = trial.suggest_float(\"kohonen_lr\", 0.6, 0.9, log=True)\n",
    "    grossberg_lr = trial.suggest_float(\"grossberg_lr\", 0.15, 0.3, log=True)\n",
    "    neighborhood_size = trial.suggest_int(\"neighborhood_size\", 16, 18, step=2)\n",
    "    neighborhood_function = trial.suggest_categorical(\"neighborhood_function\", ['gaussian', 'rectangular', 'triangular'])\n",
    "    hidden_size = trial.suggest_int(\"hidden_size\", 250, 250, step=250)\n",
    "\n",
    "\n",
    "    # Create the model with the current hyperparameters.\n",
    "    model = BaseCPNN(input_size, hidden_size, output_size, neighborhood_function, neighborhood_size).to(device)\n",
    "\n",
    "    # Train the model using the current hyperparameters.\n",
    "    model.fit(device,\n",
    "              train_loader=test_loader,\n",
    "              val_loader=test_loader,\n",
    "              epochs=5,\n",
    "              kohonen_lr=kohonen_lr,\n",
    "              grossberg_lr=grossberg_lr,\n",
    "              early_stopping=True,\n",
    "              patience=10)\n",
    "\n",
    "    # Evaluate the model on the test set\n",
    "    val_loss = model.evaluate(test_loader, return_loss=True)\n",
    "    print(f\"Validation loss: {val_loss}\")\n",
    "    return val_loss\n",
    "\n",
    "# Create and run the Optuna study.\n",
    "study = optuna.create_study(direction=\"minimize\", pruner=optuna.pruners.MedianPruner(), sampler=optuna.samplers.TPESampler(seed=42))\n",
    "study.optimize(objective, n_trials=5)\n",
    "\n",
    "print(\"Best trial:\")\n",
    "trial = study.best_trial\n",
    "print(\"  Accuracy: \", trial.value)\n",
    "print(\"  Params: \")\n",
    "for key, value in trial.params.items():\n",
    "    print(f\"    {key}: {value}\")"
   ]
  },
  {
   "cell_type": "code",
   "execution_count": null,
   "metadata": {
    "colab": {
     "base_uri": "https://localhost:8080/",
     "height": 819
    },
    "id": "5eR-7D3RNSp-",
    "outputId": "2367e2b1-6fd8-4115-86e0-4d9f2808b675"
   },
   "outputs": [
    {
     "name": "stdout",
     "output_type": "stream",
     "text": [
      "\n",
      "[Epoch 1] Starting training...\n",
      "Accuracy: 60.11%\n",
      "[Epoch 1] Validation loss: 1.8974\n",
      "\n",
      "[Epoch 2] Starting training...\n"
     ]
    }
   ],
   "source": [
    "# Load the best model\n",
    "best_params = study.best_trial.params\n",
    "\n",
    "# Reset all seeds\n",
    "set_all_seeds(42)\n",
    "\n",
    "best_model = BaseCPNN(input_size,\n",
    "                      best_params['hidden_size'],\n",
    "                      output_size,\n",
    "                      neighborhood_function=best_params['neighborhood_function'],\n",
    "                      neighborhood_size=best_params['neighborhood_size']).to(device)\n",
    "\n",
    "\n",
    "# Reload the generator to ensure that the loader passes data in the same order\n",
    "g = torch.Generator()\n",
    "g.manual_seed(42)\n",
    "\n",
    "train_loader = DataLoader(full_train_dataset, batch_size=256, shuffle=True, num_workers=8, pin_memory=True,  worker_init_fn=seed_worker, generator=g)\n",
    "test_loader = DataLoader(test_dataset, batch_size=256, shuffle=False, num_workers=8, pin_memory=True, worker_init_fn=seed_worker, generator=g)\n",
    "\n",
    "\n",
    "# Retrain\n",
    "best_model.fit(device,\n",
    "               train_loader=test_loader,\n",
    "               val_loader=test_loader,\n",
    "               epochs=5,\n",
    "               kohonen_lr=best_params['kohonen_lr'],\n",
    "               grossberg_lr=best_params['grossberg_lr'],\n",
    "               early_stopping=True,\n",
    "               patience=10)\n",
    "\n",
    "# Get predictions for the test set\n",
    "true_labels = []\n",
    "pred_labels = []\n",
    "\n",
    "best_model.eval()\n",
    "with torch.no_grad():\n",
    "    for batch_x, batch_y in test_loader:\n",
    "        batch_x = batch_x.to(device)\n",
    "        outputs, _ = best_model(batch_x)\n",
    "        preds = outputs.argmax(dim=1).cpu()\n",
    "        pred_labels.extend(preds.tolist())\n",
    "        true_labels.extend(batch_y.tolist())\n",
    "\n",
    "# Create confusion matrix\n",
    "cm = confusion_matrix(true_labels, pred_labels)\n",
    "disp = ConfusionMatrixDisplay(confusion_matrix=cm, display_labels=list(range(output_size)))\n",
    "disp.plot(cmap=plt.cm.Blues)\n",
    "plt.title(\"Confusion Matrix - Best Trial\")\n",
    "plt.show()"
   ]
  },
  {
   "cell_type": "code",
   "execution_count": null,
   "metadata": {
    "id": "QU-TlB1XICV7"
   },
   "outputs": [],
   "source": []
  }
 ],
 "metadata": {
  "accelerator": "GPU",
  "colab": {
   "gpuType": "L4",
   "machine_shape": "hm",
   "provenance": []
  },
  "kernelspec": {
   "display_name": "Python 3 (ipykernel)",
   "language": "python",
   "name": "python3"
  },
  "language_info": {
   "codemirror_mode": {
    "name": "ipython",
    "version": 3
   },
   "file_extension": ".py",
   "mimetype": "text/x-python",
   "name": "python",
   "nbconvert_exporter": "python",
   "pygments_lexer": "ipython3",
   "version": "3.12.2"
  }
 },
 "nbformat": 4,
 "nbformat_minor": 4
}
